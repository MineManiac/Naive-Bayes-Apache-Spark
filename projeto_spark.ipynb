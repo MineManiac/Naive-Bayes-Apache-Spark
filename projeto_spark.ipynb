{
 "cells": [
  {
   "cell_type": "markdown",
   "id": "2b48e863-8e93-45c0-938d-c9a4566b69b8",
   "metadata": {},
   "source": [
    "# Projeto Spark\n",
    "\n",
    "Entrega: 31 de maio de 2023"
   ]
  },
  {
   "cell_type": "markdown",
   "id": "4813f033-927b-46ca-8977-30e8b0de48c2",
   "metadata": {
    "tags": []
   },
   "source": [
    "## Introdução\n",
    "\n",
    "Neste projeto vamos construir um classificador Naive-Bayes para determinar o sentimento de um comentário."
   ]
  },
  {
   "cell_type": "markdown",
   "id": "02f3a371",
   "metadata": {},
   "source": [
    "## Grupos\n",
    "\n",
    "O projeto pode ser individual ou em duplas. Criem os grupos em https://classroom.github.com/a/EdbpYF9x"
   ]
  },
  {
   "cell_type": "markdown",
   "id": "8f7c97a3",
   "metadata": {},
   "source": [
    "## Instalando o ambiente"
   ]
  },
  {
   "cell_type": "markdown",
   "id": "3c9b3746",
   "metadata": {},
   "source": [
    "O jeito mais simples de começar a trabalhar com Spark é instalar um container com tudo pronto! No site https://hub.docker.com/r/jupyter/pyspark-notebook vemos uma imagem Docker que já vem com `pyspark` e `jupyter lab`. Instale a imagem com o comando:\n",
    "\n",
    "```bash\n",
    "docker pull jupyter/pyspark-notebook\n",
    "```\n",
    "\n",
    "Vamos iniciar o ambiente de trabalho com o comando `docker run`. Para isso precisamos tomar alguns cuidados:\n",
    "\n",
    "1) Temos que mapear nosso diretorio local de trabalho para um diretório interno do container, de modo que alterações feitas dentro do container (nesta pasta escolhida) sejam gravadas no nosso diretorio local. No container temos um usuário padrão com *username* `jovyan`. No *homedir* desse usuario temos uma pasta vazia `work`, que vai servir como local de mapeamento do nosso diretorio local de trabalho. Podemos então fazer esse mapeamendo com a opção `-v` do comando `docker run` da seguinte forma:\n",
    "\n",
    "```bash\n",
    "-v <diretorio>:/home/jovyan/work\n",
    "```\n",
    "\n",
    "onde `<diretorio>` representa seu diretorio local de trabalho.\n",
    "\n",
    "2) Para acessar o `jupyter notebook` e o *dashboard* do Spark a partir do nosso *browser* favorito temos que abrir algumas portas do container com a opção `-p`. As portas são `8888` (para o próprio `jupyter notebook`) e `4040` (para o *dashboard* do Spark). Ou seja, adicionaremos às opções do `docker run`o seguinte:\n",
    "\n",
    "```bash\n",
    "-p 8888:8888 -p 4040:4040\n",
    "```\n",
    "\n",
    "Desta forma, ao acessar `localhost:8888` na nossa máquina, estaremos acessando o servidor Jupyter na porta 8888 interna do container.\n",
    "\n",
    "3) Vamos iniciar o container no modo interativo, e vamos especificar que o container deve ser encerrado ao fechar o servidor Jupyter. Faremos isso com as opções `-it` e `-rm`\n",
    "\n",
    "Portanto, o comando completo que eu uso na minha máquina Linux para iniciar o container é:\n",
    "\n",
    "```bash\n",
    "docker run \\\n",
    "    -it \\\n",
    "    --rm \\\n",
    "    -p 8888:8888 \\\n",
    "    -p 4040:4040 \\\n",
    "    -v \"`pwd`\":/home/jovyan/work \\\n",
    "    jupyter/pyspark-notebook\n",
    "```\n",
    "\n",
    "Para facilitar a vida eu coloco esse comando em um arquivo `inicia.sh`. Engenheiros, façam do jeito que preferirem!\n",
    "\n",
    "Agora abra esse notebook lá no container!\n"
   ]
  },
  {
   "cell_type": "markdown",
   "id": "3090720d-0dec-48ff-a8da-921b62764c43",
   "metadata": {},
   "source": [
    "## Iniciando o Spark"
   ]
  },
  {
   "cell_type": "markdown",
   "id": "603fa191-ca53-4035-9147-86f3cf27831a",
   "metadata": {},
   "source": [
    "Vamos iniciar o ambiente Spark. Para isso vamos:\n",
    "\n",
    "1) Criar um objeto de configuração do ambiente Spark. Nossa configuração será simples: vamos especificar que o nome da nossa aplicação Spark é \"Minha aplicação\", e que o *master node* é a máquina local, usando todos os *cores* disponíveis. Aplicações reais de Spark são configuradas de modo ligeiramente diferente: ao especificar o *master node* passamos uma URL real, com o endereço do nó gerente do *cluster* Spark.\n",
    "\n",
    "2) Vamos criar um objeto do tipo `SparkContext` com essa configuração"
   ]
  },
  {
   "cell_type": "code",
   "execution_count": null,
   "id": "f6d1b7f8-ddc9-43b0-adbd-2b6e5aad182c",
   "metadata": {
    "tags": []
   },
   "outputs": [],
   "source": [
    "import pyspark\n",
    "\n",
    "conf = pyspark.SparkConf()\n",
    "conf.setAppName('Minha aplicação')\n",
    "conf.setMaster('local[*]')\n",
    "\n",
    "sc = pyspark.SparkContext(conf=conf)"
   ]
  },
  {
   "cell_type": "markdown",
   "id": "0cfcd1c3-3c9b-47c6-bf36-06c60b796991",
   "metadata": {},
   "source": [
    "O `SparkContext` é a nossa porta de entrada para o cluster Spark, ele será a raiz de todas as nossas operações com o Spark."
   ]
  },
  {
   "cell_type": "code",
   "execution_count": null,
   "id": "5214f8ff-9df1-4817-9e08-c1755470f3b6",
   "metadata": {
    "tags": []
   },
   "outputs": [],
   "source": [
    "sc"
   ]
  },
  {
   "cell_type": "markdown",
   "id": "60acb677-070b-4191-bbad-ee16000ff380",
   "metadata": {},
   "source": [
    "O link acima provavelmente não funcionará porque ele se refere à porta 4040 interna do container (portanto a URL está com endereço interno). Porém fizemos o mapeamento da porta 4040 interna para a porta 4040 externa, logo você pode acessar o *dashboard* do Spark no endereço http://localhost:4040\n",
    "\n",
    "<center><img src=\"./spark_dashboard.png\" width=800/></center>"
   ]
  },
  {
   "cell_type": "markdown",
   "id": "c44bd07e-7f64-4c0d-b522-faf5313b53cc",
   "metadata": {},
   "source": [
    "## Lendo os dados"
   ]
  },
  {
   "cell_type": "markdown",
   "id": "b0c2f3af",
   "metadata": {},
   "source": [
    "Vamos começar lendo o arquivo de reviews e gravando o resultado em formato pickle, mais amigável."
   ]
  },
  {
   "cell_type": "code",
   "execution_count": null,
   "id": "fe7fda56-bf06-4309-a265-26e553e20b94",
   "metadata": {
    "tags": []
   },
   "outputs": [],
   "source": [
    "def parse_line(line):\n",
    "    parts = line[1:-1].split('\",\"')\n",
    "    sentiment = int(parts[0])\n",
    "    title = parts[1].replace('\"\"', '\"')\n",
    "    body = parts[2].replace('\"\"', '\"')\n",
    "    return (sentiment, title, body)\n",
    "\n",
    "rdd = sc.textFile('data/train.csv').map(parse_line)"
   ]
  },
  {
   "cell_type": "code",
   "execution_count": null,
   "id": "900ea746-984c-405b-a449-d6cf8885525e",
   "metadata": {
    "tags": []
   },
   "outputs": [],
   "source": [
    "rdd.count()"
   ]
  },
  {
   "cell_type": "code",
   "execution_count": null,
   "id": "e83f38e5-3d7b-4261-8ab3-caadb39d6076",
   "metadata": {
    "tags": []
   },
   "outputs": [],
   "source": [
    "rdd.take(1)"
   ]
  },
  {
   "cell_type": "markdown",
   "id": "339c7933-ad3f-4a17-bf89-8e1360ddc4ab",
   "metadata": {},
   "source": [
    "Agora vamos gravar no formato pickle, para facilitar os trabalhos futuros. Após gravar o arquivo, não mais rode as células desta primeira etapa!"
   ]
  },
  {
   "cell_type": "code",
   "execution_count": null,
   "id": "39938d62-bc17-4243-a9e8-3fed9c8d2bd9",
   "metadata": {
    "tags": []
   },
   "outputs": [],
   "source": [
    "rdd.saveAsPickleFile('reviews.pickle')"
   ]
  },
  {
   "cell_type": "markdown",
   "id": "6e4f5b5b-f0ac-4385-866b-8d8d8ecbdf9f",
   "metadata": {},
   "source": [
    "## Um classificador Naive-Bayes"
   ]
  },
  {
   "cell_type": "code",
   "execution_count": 2,
   "id": "ad047de1-c29b-4b34-a4ce-b73f5c720207",
   "metadata": {
    "tags": []
   },
   "outputs": [],
   "source": [
    "import string\n",
    "import math\n",
    "import pyspark\n",
    "\n",
    "conf = pyspark.SparkConf()\n",
    "conf.setAppName('Minha aplicação')\n",
    "conf.setMaster('local[*]')\n",
    "\n",
    "sc = pyspark.SparkContext(conf=conf)"
   ]
  },
  {
   "cell_type": "markdown",
   "id": "5a9ef2e6-ac48-46ad-b538-920c17aff6dc",
   "metadata": {},
   "source": [
    "Vamos ler o arquivo pickle gravado anteriormente:"
   ]
  },
  {
   "cell_type": "code",
   "execution_count": 3,
   "id": "9107ce80-0447-41d7-8f83-d96f0680d8fd",
   "metadata": {
    "tags": []
   },
   "outputs": [],
   "source": [
    "rdd = sc.pickleFile('reviews.pickle')"
   ]
  },
  {
   "cell_type": "code",
   "execution_count": 4,
   "id": "ae84b476-b262-496f-93b0-19386fa9f29c",
   "metadata": {
    "tags": []
   },
   "outputs": [
    {
     "data": {
      "text/plain": [
       "3600000"
      ]
     },
     "execution_count": 4,
     "metadata": {},
     "output_type": "execute_result"
    }
   ],
   "source": [
    "rdd.count()"
   ]
  },
  {
   "cell_type": "code",
   "execution_count": 5,
   "id": "607f7afa-43e7-4b82-bffc-7c1cca0536ae",
   "metadata": {
    "tags": []
   },
   "outputs": [
    {
     "data": {
      "text/plain": [
       "[(2,\n",
       "  'Stuning even for the non-gamer',\n",
       "  'This sound track was beautiful! It paints the senery in your mind so well I would recomend it even to people who hate vid. game music! I have played the game Chrono Cross but out of all of the games I have ever played it has the best music! It backs away from crude keyboarding and takes a fresher step with grate guitars and soulful orchestras. It would impress anyone who cares to listen! ^_^')]"
      ]
     },
     "execution_count": 5,
     "metadata": {},
     "output_type": "execute_result"
    }
   ],
   "source": [
    "rdd.take(1)"
   ]
  },
  {
   "cell_type": "markdown",
   "id": "fc9751aa-df6d-4e3e-a8c5-039133cefe28",
   "metadata": {},
   "source": [
    "Agora, complete as tarefas em sequencia para construir o classificador Naive-Bayes:"
   ]
  },
  {
   "cell_type": "markdown",
   "id": "69bac409-7181-49c4-b555-73d3e9ff71f2",
   "metadata": {},
   "source": [
    "### Fase 1"
   ]
  },
  {
   "cell_type": "markdown",
   "id": "ef78654e-d064-41b4-9be8-306a57c425f4",
   "metadata": {},
   "source": [
    "#### Tarefa"
   ]
  },
  {
   "cell_type": "markdown",
   "id": "e03d82f8-520e-49de-8397-5277d5bd072e",
   "metadata": {},
   "source": [
    "Construa uma função que recebe um RDD no formato do RDD original e retorna um RDD no qual cada item é um par (palavra, contagem)."
   ]
  },
  {
   "cell_type": "code",
   "execution_count": 6,
   "id": "6bb48e97-e57d-4b6a-9b27-b52cd9c3d195",
   "metadata": {
    "tags": []
   },
   "outputs": [],
   "source": [
    "def separa_em_palavras(item):\n",
    "    titulo = item[1]\n",
    "    corpo = item[2]\n",
    "    return titulo.split() + corpo.split()\n",
    "\n",
    "def sem_pontuacao(x):\n",
    "    for c in x:\n",
    "        if c in string.punctuation:\n",
    "            return False\n",
    "    return True\n",
    "\n",
    "\n",
    "def contagem(rdd_original):\n",
    "    rdd_split = rdd_original \\\n",
    "        .flatMap(separa_em_palavras) \\\n",
    "        .filter(sem_pontuacao)\\\n",
    "        .map(lambda x: (x, 1)) \\\n",
    "        .reduceByKey(lambda x, y: x + y)\n",
    "    return rdd_split"
   ]
  },
  {
   "cell_type": "code",
   "execution_count": null,
   "id": "d3cb1eb5-de74-4d00-89a6-7ede49adcc20",
   "metadata": {
    "tags": []
   },
   "outputs": [],
   "source": [
    "rdd_split = contagem(rdd)\n",
    "rdd_split.takeOrdered(10, lambda x: -x[1])"
   ]
  },
  {
   "cell_type": "markdown",
   "id": "49d888c4-bef5-4d1c-a901-e8dc5029f1b0",
   "metadata": {},
   "source": [
    "#### Tarefa"
   ]
  },
  {
   "cell_type": "markdown",
   "id": "29ec5621-6c06-4dce-b351-e887d6aa8be4",
   "metadata": {},
   "source": [
    "Construa uma função que recebe o RDD (palavra, contagem) construido anteriormente e retorna um RDD no qual cada item é um par (palavra, $\\log_{10}\\left(c \\, / \\, T\\right)$), onde $c$ é a contagem daquela palavra e $T$ é a soma das contagens de palavra."
   ]
  },
  {
   "cell_type": "code",
   "execution_count": 7,
   "id": "ca379b49-a447-4ecf-9946-6c408e2adc97",
   "metadata": {
    "tags": []
   },
   "outputs": [],
   "source": [
    "def contagem_total(rdd_original):\n",
    "    contagem = rdd_original \\\n",
    "                .flatMap(separa_em_palavras) \\\n",
    "                .filter(sem_pontuacao)\\\n",
    "                .count()\n",
    "    return contagem"
   ]
  },
  {
   "cell_type": "code",
   "execution_count": 8,
   "id": "8f077711-8a4c-4287-a811-3162efe5425b",
   "metadata": {
    "tags": []
   },
   "outputs": [],
   "source": [
    "T_original = contagem_total(rdd)"
   ]
  },
  {
   "cell_type": "code",
   "execution_count": 9,
   "id": "61f58793-ec28-46e6-bccb-513c6c88443d",
   "metadata": {
    "tags": []
   },
   "outputs": [],
   "source": [
    "def log_contagem(rdd_split, T):\n",
    "    rdd_log = rdd_split \\\n",
    "                .map(lambda x: (x[0], math.log(x[1]/T, 10)))\n",
    "    return rdd_log"
   ]
  },
  {
   "cell_type": "code",
   "execution_count": null,
   "id": "992d7d88-a78b-4a42-9fd2-32ba5a7f50a4",
   "metadata": {
    "tags": []
   },
   "outputs": [],
   "source": [
    "rdd_log = log_contagem(rdd_split, T_original)\n",
    "rdd_log.takeOrdered(10, lambda x: -x[1])"
   ]
  },
  {
   "cell_type": "markdown",
   "id": "09116064-380c-43ed-91a3-736c80b47fb9",
   "metadata": {},
   "source": [
    "#### Tarefa"
   ]
  },
  {
   "cell_type": "markdown",
   "id": "47df9afe-f429-4951-954d-8ac0361efee6",
   "metadata": {},
   "source": [
    "Separe o RDD original em dois RDDs: o dos reviews positivos e o dos negativos. Em seguida, use as funções anteriores para construir RDDs que contem os pares (palavra, $\\log_{10}\\left(c \\, / \\, T\\right)$)"
   ]
  },
  {
   "cell_type": "code",
   "execution_count": 10,
   "id": "987554e0-0a16-4827-9cc3-7c21063b1f8e",
   "metadata": {
    "tags": []
   },
   "outputs": [],
   "source": [
    "rdd_positivos = rdd.filter(lambda x: x[0] == 2)\n",
    "rdd_negativos = rdd.filter(lambda x: x[0] == 1)"
   ]
  },
  {
   "cell_type": "code",
   "execution_count": 11,
   "id": "86a2bd1c-5408-4e9c-91ba-274835dad2b0",
   "metadata": {
    "tags": []
   },
   "outputs": [],
   "source": [
    "rdd_positivos_split = contagem(rdd_positivos)\n",
    "T_positivos = contagem_total(rdd_positivos)\n",
    "rdd_positivos_log = log_contagem(rdd_positivos_split, T_positivos)\n",
    "\n",
    "rdd_negativos_split = contagem(rdd_negativos)\n",
    "T_negativos = contagem_total(rdd_negativos)\n",
    "rdd_negativos_log = log_contagem(rdd_negativos_split, T_negativos)"
   ]
  },
  {
   "cell_type": "code",
   "execution_count": 12,
   "id": "f902d80e-d348-43e0-8329-bfcd9196a75b",
   "metadata": {
    "tags": []
   },
   "outputs": [
    {
     "data": {
      "text/plain": [
       "[('the', -1.3087279254776858),\n",
       " ('and', -1.4742870907750345),\n",
       " ('a', -1.5427896991860932),\n",
       " ('to', -1.5616817902847964),\n",
       " ('I', -1.5786329779030477),\n",
       " ('of', -1.6190216986647599),\n",
       " ('is', -1.670517375538686),\n",
       " ('this', -1.8268730410869245),\n",
       " ('it', -1.8354341370011509),\n",
       " ('in', -1.8720079472596638)]"
      ]
     },
     "execution_count": 12,
     "metadata": {},
     "output_type": "execute_result"
    }
   ],
   "source": [
    "rdd_positivos_log.takeOrdered(10, lambda x: -x[1])"
   ]
  },
  {
   "cell_type": "code",
   "execution_count": 43,
   "id": "e7b1c57c-7ac7-417c-abfd-a09fd35733b6",
   "metadata": {
    "tags": []
   },
   "outputs": [
    {
     "data": {
      "text/plain": [
       "[('the', -1.2898080994079197),\n",
       " ('I', -1.5249296734506503),\n",
       " ('to', -1.5487266713273227),\n",
       " ('and', -1.5620264300551518),\n",
       " ('a', -1.5707942641431285),\n",
       " ('of', -1.6602686209170103),\n",
       " ('is', -1.7355192392404242),\n",
       " ('it', -1.7689899474700645),\n",
       " ('this', -1.788560315647327),\n",
       " ('in', -1.9274169739438267)]"
      ]
     },
     "execution_count": 43,
     "metadata": {},
     "output_type": "execute_result"
    }
   ],
   "source": [
    "rdd_negativos_log.takeOrdered(10, lambda x: -x[1])"
   ]
  },
  {
   "cell_type": "markdown",
   "id": "dbfe5957-73d2-45ad-9ad2-6e029668bacf",
   "metadata": {},
   "source": [
    "### Tarefa"
   ]
  },
  {
   "cell_type": "markdown",
   "id": "904cb0c8-2236-47aa-8ab0-3ad925bb24ed",
   "metadata": {},
   "source": [
    "Use o `.fullOuterJoin()` dos RDDs para construir um RDD unificado, no qual cada item é da forma (palavra, log_prob_positivo, log_prob_negativo). \"Baixe\" esse resultado final usando `.collect()`."
   ]
  },
  {
   "cell_type": "code",
   "execution_count": 14,
   "id": "0b599156-e71d-46b4-9499-8d2dfe072512",
   "metadata": {
    "tags": []
   },
   "outputs": [],
   "source": [
    "rdd_outer_joined = rdd_positivos_log.fullOuterJoin(rdd_negativos_log).collect()"
   ]
  },
  {
   "cell_type": "code",
   "execution_count": 38,
   "id": "05ef84c0-bf17-4b07-b239-87d231aeaed4",
   "metadata": {
    "tags": []
   },
   "outputs": [
    {
     "data": {
      "text/plain": [
       "[('out', (-2.5940007500305606, -2.5276951908083563)),\n",
       " ('family', (-3.4122506213707133, -3.852019458860614)),\n",
       " ('start', (-3.5014041870006154, -3.5939165435118623)),\n",
       " ('willing', (-4.398161900200943, -4.293322053616597)),\n",
       " ('Electronics', (-5.777439375734934, -5.4831774397339235)),\n",
       " ('gift', (-3.546621895036084, -3.847410736303814)),\n",
       " ('southside', (-6.722818424842954, -7.098074655767058)),\n",
       " ('guest', (-4.683404305666817, -4.913099465068797)),\n",
       " ('cute', (-3.987401002930166, -4.13306120549481)),\n",
       " ('JMM', (-7.588119850945497, None))]"
      ]
     },
     "execution_count": 38,
     "metadata": {},
     "output_type": "execute_result"
    }
   ],
   "source": [
    "rdd_outer_joined[:10]"
   ]
  },
  {
   "cell_type": "markdown",
   "id": "79e90473-6725-4f30-9130-f5a0f370d968",
   "metadata": {},
   "source": [
    "#### Tarefa"
   ]
  },
  {
   "cell_type": "markdown",
   "id": "423d2117-397c-4a66-b63b-ca00036c1e2d",
   "metadata": {},
   "source": [
    "Para uma dada string, determine se ela é um review positivo ou negativo usando os RDDs acima. Lembre-se de como funciona o classificador Naive-Bayes: http://stanford.edu/~jurafsky/slp3/slides/7_NB.pdf, consulte tambem suas notas de aula de Ciência dos Dados!"
   ]
  },
  {
   "cell_type": "code",
   "execution_count": 17,
   "id": "f2f68949-61c8-46b4-a39e-bcfb3872c4fd",
   "metadata": {
    "tags": []
   },
   "outputs": [],
   "source": [
    "prob_priori_frase_positiva = T_positivos/T_original\n",
    "prob_priori_frase_negativa = T_negativos/T_original\n",
    "\n",
    "log_prob_priori_frase_positiva = math.log(prob_frase_positiva, 10)\n",
    "log_prob_priori_frase_negativa = math.log(prob_frase_negativa, 10)"
   ]
  },
  {
   "cell_type": "code",
   "execution_count": 45,
   "id": "902fd76a-63fd-4cd2-a795-f1482a043c57",
   "metadata": {
    "tags": []
   },
   "outputs": [],
   "source": [
    "probs_palavras = {}\n",
    "\n",
    "for e in rdd_outer_joined:\n",
    "    # probs_palavras[palavra] = (prob_positiva, prob_negativa)\n",
    "    probs_palavras[e[0]] = (e[1][0], e[1][1])"
   ]
  },
  {
   "cell_type": "code",
   "execution_count": 46,
   "id": "d93dabc0-c374-4d10-812c-1024a52bd60d",
   "metadata": {
    "tags": []
   },
   "outputs": [],
   "source": [
    "def naive_bayes(frase, p_P, p_N, p_Palavras):\n",
    "    prob_frase_positiva = p_P\n",
    "    prob_frase_negativa = p_N\n",
    "    \n",
    "    for palavra in frase.split():\n",
    "        palavra = ''.join(filter(lambda x: sem_pontuacao(x), palavra))\n",
    "        prob_frase_positiva += p_Palavras[palavra][0]\n",
    "        prob_frase_negativa += p_Palavras[palavra][1]\n",
    "        \n",
    "    if prob_frase_positiva > prob_frase_negativa:\n",
    "        return 2\n",
    "    return 1        "
   ]
  },
  {
   "cell_type": "code",
   "execution_count": 51,
   "id": "4ca4c844-3207-4f46-b43a-ec1370fcaefa",
   "metadata": {
    "tags": []
   },
   "outputs": [
    {
     "name": "stdout",
     "output_type": "stream",
     "text": [
      "Positivo! =)\n"
     ]
    }
   ],
   "source": [
    "sent = naive_bayes(\"The sky is so blue i love my life\", log_prob_priori_frase_negativa, log_prob_priori_frase_negativa, probs_palavras)\n",
    "if sent == 2:\n",
    "    print(\"Positivo! =)\")\n",
    "elif sent == 1:\n",
    "    print(\"Negativo! =(\")"
   ]
  },
  {
   "cell_type": "markdown",
   "id": "ab052fff-3752-4476-88f5-bc6b654c8e02",
   "metadata": {},
   "source": [
    "### Fase 2"
   ]
  },
  {
   "cell_type": "markdown",
   "id": "7071fa13-c31b-434e-969f-538c0070fb34",
   "metadata": {},
   "source": [
    "Agora que temos um classificador Naive-Bayes, vamos explorá-lo um pouco:"
   ]
  },
  {
   "cell_type": "markdown",
   "id": "57ed5be5-9e8d-4a7f-98bc-592cc7ecee74",
   "metadata": {},
   "source": [
    "### Tarefa"
   ]
  },
  {
   "cell_type": "markdown",
   "id": "fcb9bd58-1023-4cb7-861e-6cdbe5384356",
   "metadata": {},
   "source": [
    "Quais são as 100 palavras que mais indicam negatividade, ou seja, onde a diferença entre a probabilidade da palavra no conjunto dos comentários negativos e positivos é máxima? E quais as 100 palavras de maior positividade? Mostre os resultados na forma de *word clouds*."
   ]
  },
  {
   "cell_type": "code",
   "execution_count": 58,
   "id": "c147d964-8720-43fa-a8e3-0610394a752f",
   "metadata": {
    "tags": []
   },
   "outputs": [],
   "source": [
    "diferencas_negativo = []\n",
    "diferencas_positivo = []\n",
    "for e in rdd_outer_joined:\n",
    "    try:\n",
    "        diferencas_negativo.append((e[0], (e[1][1]-e[1][0])))\n",
    "    except TypeError:\n",
    "        diferencas_negativo.append((e[0], None))\n",
    "    try:\n",
    "        diferencas_positivo.append((e[0], (e[1][0]-e[1][1])))\n",
    "    except TypeError:\n",
    "        diferencas_positivo.append((e[0], None))"
   ]
  },
  {
   "cell_type": "code",
   "execution_count": 59,
   "id": "94eeb7fb-1a79-4f85-b919-e8d9c85c6309",
   "metadata": {
    "tags": []
   },
   "outputs": [
    {
     "ename": "TypeError",
     "evalue": "'<' not supported between instances of 'NoneType' and 'float'",
     "output_type": "error",
     "traceback": [
      "\u001b[0;31m---------------------------------------------------------------------------\u001b[0m",
      "\u001b[0;31mTypeError\u001b[0m                                 Traceback (most recent call last)",
      "Cell \u001b[0;32mIn[59], line 1\u001b[0m\n\u001b[0;32m----> 1\u001b[0m \u001b[43mdiferencas_negativo\u001b[49m\u001b[38;5;241;43m.\u001b[39;49m\u001b[43msort\u001b[49m\u001b[43m(\u001b[49m\u001b[43mkey\u001b[49m\u001b[43m \u001b[49m\u001b[38;5;241;43m=\u001b[39;49m\u001b[43m \u001b[49m\u001b[38;5;28;43;01mlambda\u001b[39;49;00m\u001b[43m \u001b[49m\u001b[43mx\u001b[49m\u001b[43m:\u001b[49m\u001b[43m \u001b[49m\u001b[43mx\u001b[49m\u001b[43m[\u001b[49m\u001b[38;5;241;43m1\u001b[39;49m\u001b[43m]\u001b[49m\u001b[43m)\u001b[49m\n\u001b[1;32m      2\u001b[0m diferencas_positivo\u001b[38;5;241m.\u001b[39msort(key \u001b[38;5;241m=\u001b[39m \u001b[38;5;28;01mlambda\u001b[39;00m x: x[\u001b[38;5;241m1\u001b[39m])\n",
      "\u001b[0;31mTypeError\u001b[0m: '<' not supported between instances of 'NoneType' and 'float'"
     ]
    }
   ],
   "source": [
    "diferencas_negativo.sort(key = lambda x: x[1])\n",
    "diferencas_positivo.sort(key = lambda x: x[1])"
   ]
  },
  {
   "cell_type": "markdown",
   "id": "8854a0bf-1941-47eb-a1f5-6b3f4d34f857",
   "metadata": {},
   "source": [
    "### Tarefa desafio!"
   ]
  },
  {
   "cell_type": "markdown",
   "id": "94a98d11-16d6-4d97-b1ab-14db145e826e",
   "metadata": {},
   "source": [
    "Qual o desempenho do classificador (acurácia)? Para medir sua acurácia:\n",
    "\n",
    "- Separe os reviews em dois conjuntos: treinamente e teste\n",
    "- Repita o \"treinamento\" do classificador com o conjunto de treinamento\n",
    "- Para cada review do conjunto de teste, determine se é positiva ou negativa de acordo com o classificador\n",
    "- Determine a acurácia\n",
    "\n",
    "Esta não é uma tarefa trivial. Não basta fazer um `for` para determinar a classe de cada review de teste: isso demoraria uma eternidade. Você tem que usar variáveis \"broadcast\" do Spark para enviar uma cópia da tabela de frequencias para cada *core* do executor."
   ]
  },
  {
   "cell_type": "markdown",
   "id": "d12a2c0d-7bfc-40bf-b717-1414c1df05ec",
   "metadata": {},
   "source": [
    "### Tarefa desafio!"
   ]
  },
  {
   "cell_type": "markdown",
   "id": "6af21c4e-5a5b-4127-80a0-d79e95f03b8f",
   "metadata": {},
   "source": [
    "Implemente Laplace smoothing"
   ]
  },
  {
   "cell_type": "code",
   "execution_count": null,
   "id": "7f61c989-ec58-4ebe-be19-595ad9e4887c",
   "metadata": {},
   "outputs": [],
   "source": []
  },
  {
   "cell_type": "markdown",
   "id": "08805b7b-f8b5-4b85-ab53-3c0813f79c44",
   "metadata": {},
   "source": [
    "## Rubrica de avaliação"
   ]
  },
  {
   "cell_type": "markdown",
   "id": "74059567-1f3d-414a-bbc8-f5a7ea144b76",
   "metadata": {},
   "source": [
    "- I: groselha, falha crítica, ou não entregou nada\n",
    "- D: Fez uma tentativa honesta de fazer todos os itens da fase 1, mas tem erros\n",
    "- C: Fase 1 completa\n",
    "- B: Fase 2, faltando apenas um desafio\n",
    "- A: Fase 2 completa"
   ]
  },
  {
   "cell_type": "code",
   "execution_count": null,
   "id": "f33106eb-7a38-4d89-8a23-c14fce370bf1",
   "metadata": {},
   "outputs": [],
   "source": []
  }
 ],
 "metadata": {
  "kernelspec": {
   "display_name": "Python 3 (ipykernel)",
   "language": "python",
   "name": "python3"
  },
  "language_info": {
   "codemirror_mode": {
    "name": "ipython",
    "version": 3
   },
   "file_extension": ".py",
   "mimetype": "text/x-python",
   "name": "python",
   "nbconvert_exporter": "python",
   "pygments_lexer": "ipython3",
   "version": "3.10.11"
  },
  "vscode": {
   "interpreter": {
    "hash": "e7370f93d1d0cde622a1f8e1c04877d8463912d04d973331ad4851f04de6915a"
   }
  }
 },
 "nbformat": 4,
 "nbformat_minor": 5
}
